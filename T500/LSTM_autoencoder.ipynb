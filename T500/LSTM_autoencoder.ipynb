{
 "cells": [
  {
   "cell_type": "code",
   "execution_count": 1,
   "id": "a440e341-c084-4dd6-b23d-15338f43dbef",
   "metadata": {
    "tags": []
   },
   "outputs": [
    {
     "name": "stdout",
     "output_type": "stream",
     "text": [
      "Using device: cuda\n"
     ]
    }
   ],
   "source": [
    "import pandas as pd\n",
    "import numpy as np\n",
    "import torch\n",
    "import torch.nn as nn\n",
    "import torch.optim as optim\n",
    "from torch.utils.data import DataLoader, TensorDataset\n",
    "from sklearn.preprocessing import MinMaxScaler\n",
    "from sklearn.model_selection import train_test_split\n",
    "from sklearn.metrics import confusion_matrix, accuracy_score, precision_score, recall_score, f1_score\n",
    "import matplotlib.pyplot as plt\n",
    "import seaborn as sns\n",
    "\n",
    "# Set device: use GPU if available, else CPU\n",
    "device = torch.device(\"cuda\" if torch.cuda.is_available() else \"cpu\")\n",
    "print(\"Using device:\", device)\n"
   ]
  },
  {
   "cell_type": "code",
   "execution_count": 2,
   "id": "35fa4c7b-e8bb-4b9c-ba18-5af348a7a276",
   "metadata": {
    "tags": []
   },
   "outputs": [
    {
     "name": "stdout",
     "output_type": "stream",
     "text": [
      "NaN counts before fixing:\n",
      " Mean                  0\n",
      "RMS                   0\n",
      "Variance              0\n",
      "Standard Deviation    0\n",
      "Peak-to-Peak          0\n",
      "Crest Factor          0\n",
      "Skewness              0\n",
      "Kurtosis              0\n",
      "Energy                0\n",
      "Entropy               0\n",
      "Max                   0\n",
      "Min                   0\n",
      "peak_magnitude        0\n",
      "spectral_centroid     0\n",
      "spectral_bandwidth    0\n",
      "spectral_flatness     0\n",
      "spectral_rolloff      0\n",
      "spectral_entropy      0\n",
      "spectral_contrast     0\n",
      "label                 0\n",
      "dtype: int64\n",
      "\n",
      "NaN counts after fixing:\n",
      " Mean                  0\n",
      "RMS                   0\n",
      "Variance              0\n",
      "Standard Deviation    0\n",
      "Peak-to-Peak          0\n",
      "Crest Factor          0\n",
      "Skewness              0\n",
      "Kurtosis              0\n",
      "Energy                0\n",
      "Entropy               0\n",
      "Max                   0\n",
      "Min                   0\n",
      "peak_magnitude        0\n",
      "spectral_centroid     0\n",
      "spectral_bandwidth    0\n",
      "spectral_flatness     0\n",
      "spectral_rolloff      0\n",
      "spectral_entropy      0\n",
      "spectral_contrast     0\n",
      "label                 0\n",
      "dtype: int64\n"
     ]
    }
   ],
   "source": [
    "# Load the dataset\n",
    "df = pd.read_csv(\"IL_T500_cleaned.csv\")  # Update with your file name/path\n",
    "\n",
    "# Check for NaNs in each column\n",
    "print(\"NaN counts before fixing:\\n\", df.isnull().sum())\n",
    "\n",
    "# Fill missing values in 'spectral_contrast' with the column mean\n",
    "df['spectral_contrast'].fillna(df['spectral_contrast'].mean(), inplace=True)\n",
    "\n",
    "# Verify that NaNs are resolved\n",
    "print(\"\\nNaN counts after fixing:\\n\", df.isnull().sum())\n"
   ]
  },
  {
   "cell_type": "code",
   "execution_count": 3,
   "id": "17c77a55-465b-427a-857d-602759ad2d0c",
   "metadata": {
    "tags": []
   },
   "outputs": [
    {
     "name": "stdout",
     "output_type": "stream",
     "text": [
      "Normal data shape: (10000, 20)\n",
      "Anomaly data shape: (9999, 20)\n",
      "X_normal shape: (10000, 19)\n",
      "X_all shape: (19999, 19)\n",
      "Training sequences shape (normal only): (9981, 20, 19)\n",
      "Test sequences shape (all data): (19980, 20, 19)\n"
     ]
    }
   ],
   "source": [
    "# Separate the data into normal and anomaly subsets based on the 'label'\n",
    "df_normal = df[df['label'] == 0].copy()\n",
    "df_anomaly = df[df['label'] == 1].copy()\n",
    "print(\"Normal data shape:\", df_normal.shape)\n",
    "print(\"Anomaly data shape:\", df_anomaly.shape)\n",
    "\n",
    "# For training, we use only normal data.\n",
    "X_normal = df_normal.drop(columns=['label']).values  # shape: (num_normal_samples, num_features)\n",
    "y_normal = df_normal['label'].values  # will be all zeros\n",
    "\n",
    "# For testing, use the entire dataset.\n",
    "X_all = df.drop(columns=['label']).values\n",
    "y_all = df['label'].values\n",
    "\n",
    "print(\"X_normal shape:\", X_normal.shape)\n",
    "print(\"X_all shape:\", X_all.shape)\n",
    "\n",
    "# Scale features: fit the scaler on normal training data and transform both sets\n",
    "scaler = MinMaxScaler()\n",
    "X_normal_scaled = scaler.fit_transform(X_normal)\n",
    "X_all_scaled = scaler.transform(X_all)\n",
    "\n",
    "# Set sequence (window) length; here we use 20 timesteps.\n",
    "timesteps = 20\n",
    "\n",
    "def create_sequences(data, seq_len):\n",
    "    sequences = []\n",
    "    for i in range(len(data) - seq_len + 1):\n",
    "        sequences.append(data[i : i + seq_len])\n",
    "    return np.array(sequences)\n",
    "\n",
    "# Create sequences for training from normal data\n",
    "X_normal_seq = create_sequences(X_normal_scaled, seq_len=timesteps)\n",
    "# (For unsupervised training, labels are not used; we can set them to zeros.)\n",
    "y_normal_seq = np.zeros(len(X_normal_seq), dtype=int)\n",
    "\n",
    "# Create sequences for testing from the entire dataset.\n",
    "X_all_seq = create_sequences(X_all_scaled, seq_len=timesteps)\n",
    "# For test labels, assign the label of the last element in each sequence.\n",
    "def create_test_labels(labels, seq_len):\n",
    "    test_labels = []\n",
    "    for i in range(len(labels) - seq_len + 1):\n",
    "        test_labels.append(labels[i + seq_len - 1])\n",
    "    return np.array(test_labels)\n",
    "\n",
    "y_all_seq = create_test_labels(y_all, seq_len=timesteps)\n",
    "\n",
    "print(\"Training sequences shape (normal only):\", X_normal_seq.shape)\n",
    "print(\"Test sequences shape (all data):\", X_all_seq.shape)\n"
   ]
  },
  {
   "cell_type": "code",
   "execution_count": 4,
   "id": "7265c2d8-caa4-4a39-b651-04cacd7a4d56",
   "metadata": {
    "tags": []
   },
   "outputs": [],
   "source": [
    "# Convert training sequences (normal data) to PyTorch tensors\n",
    "X_train_tensor = torch.tensor(X_normal_seq, dtype=torch.float32).to(device)\n",
    "# We don't need labels for unsupervised training; we wrap only X_train_tensor.\n",
    "train_dataset = TensorDataset(X_train_tensor)\n",
    "train_loader = DataLoader(train_dataset, batch_size=64, shuffle=True)\n",
    "\n",
    "# Convert test sequences and their true labels to tensors\n",
    "X_test_tensor = torch.tensor(X_all_seq, dtype=torch.float32).to(device)\n",
    "y_test_tensor = torch.tensor(y_all_seq, dtype=torch.long).to(device)\n",
    "test_dataset = TensorDataset(X_test_tensor, y_test_tensor)\n",
    "test_loader = DataLoader(test_dataset, batch_size=64, shuffle=False)\n"
   ]
  },
  {
   "cell_type": "code",
   "execution_count": 5,
   "id": "7bb4484a-5238-4248-86cf-577b2e12a997",
   "metadata": {
    "tags": []
   },
   "outputs": [
    {
     "name": "stdout",
     "output_type": "stream",
     "text": [
      "LSTMAutoencoder(\n",
      "  (encoder): LSTM(19, 64, num_layers=2, batch_first=True, dropout=0.3)\n",
      "  (decoder): LSTM(64, 19, num_layers=2, batch_first=True, dropout=0.3)\n",
      ")\n"
     ]
    }
   ],
   "source": [
    "class LSTMAutoencoder(nn.Module):\n",
    "    def __init__(self, input_dim, hidden_dim, num_layers=2, dropout=0.3):\n",
    "        super(LSTMAutoencoder, self).__init__()\n",
    "        # Encoder: compress input sequence into a hidden representation.\n",
    "        # Note: dropout is applied only if num_layers > 1.\n",
    "        self.encoder = nn.LSTM(input_dim, hidden_dim, num_layers=num_layers, \n",
    "                               dropout=dropout, batch_first=True)\n",
    "        # Decoder: reconstruct the original sequence from the hidden representation.\n",
    "        self.decoder = nn.LSTM(hidden_dim, input_dim, num_layers=num_layers, \n",
    "                               dropout=dropout, batch_first=True)\n",
    "        \n",
    "    def forward(self, x):\n",
    "        # x shape: (batch, seq_len, input_dim)\n",
    "        encoded, _ = self.encoder(x)    # encoded: (batch, seq_len, hidden_dim)\n",
    "        decoded, _ = self.decoder(encoded)  # decoded: (batch, seq_len, input_dim)\n",
    "        return decoded\n",
    "\n",
    "# Example instantiation:\n",
    "input_dim = X_normal_seq.shape[2]  # should be 19 (number of features)\n",
    "hidden_dim = 64  # experiment with this value if needed\n",
    "num_layers = 2   # increased from 1 to 2\n",
    "dropout = 0.3    # 30% dropout between layers\n",
    "\n",
    "autoencoder = LSTMAutoencoder(input_dim, hidden_dim, num_layers=num_layers, dropout=dropout).to(device)\n",
    "print(autoencoder)\n"
   ]
  },
  {
   "cell_type": "code",
   "execution_count": 6,
   "id": "38ee230e-0e48-4493-a1b0-538242bfd8d8",
   "metadata": {
    "tags": []
   },
   "outputs": [
    {
     "name": "stdout",
     "output_type": "stream",
     "text": [
      "\n",
      "Training LSTM Autoencoder...\n",
      "Epoch 1/30 | Loss: 0.447366\n",
      "Epoch 2/30 | Loss: 0.437258\n",
      "Epoch 3/30 | Loss: 0.423610\n",
      "Epoch 4/30 | Loss: 0.399396\n",
      "Epoch 5/30 | Loss: 0.359068\n",
      "Epoch 6/30 | Loss: 0.312974\n",
      "Epoch 7/30 | Loss: 0.274537\n",
      "Epoch 8/30 | Loss: 0.242965\n",
      "Epoch 9/30 | Loss: 0.214755\n",
      "Epoch 10/30 | Loss: 0.189750\n",
      "Epoch 11/30 | Loss: 0.168249\n",
      "Epoch 12/30 | Loss: 0.150596\n",
      "Epoch 13/30 | Loss: 0.135583\n",
      "Epoch 14/30 | Loss: 0.123305\n",
      "Epoch 15/30 | Loss: 0.113114\n",
      "Epoch 16/30 | Loss: 0.104561\n",
      "Epoch 17/30 | Loss: 0.097533\n",
      "Epoch 18/30 | Loss: 0.091395\n",
      "Epoch 19/30 | Loss: 0.086071\n",
      "Epoch 20/30 | Loss: 0.081278\n",
      "Epoch 21/30 | Loss: 0.076998\n",
      "Epoch 22/30 | Loss: 0.073097\n",
      "Epoch 23/30 | Loss: 0.069311\n",
      "Epoch 24/30 | Loss: 0.065816\n",
      "Epoch 25/30 | Loss: 0.062338\n",
      "Epoch 26/30 | Loss: 0.059124\n",
      "Epoch 27/30 | Loss: 0.055989\n",
      "Epoch 28/30 | Loss: 0.053061\n",
      "Epoch 29/30 | Loss: 0.050356\n",
      "Epoch 30/30 | Loss: 0.047839\n"
     ]
    }
   ],
   "source": [
    "criterion = nn.MSELoss()  # Reconstruction loss (Mean Squared Error)\n",
    "optimizer = optim.Adam(autoencoder.parameters(), lr=1e-5)\n",
    "\n",
    "epochs = 30\n",
    "print(\"\\nTraining LSTM Autoencoder...\")\n",
    "for epoch in range(1, epochs + 1):\n",
    "    autoencoder.train()\n",
    "    running_loss = 0.0\n",
    "    for batch in train_loader:\n",
    "        X_batch = batch[0]  # each batch is a tensor of shape (batch_size, seq_len, input_dim)\n",
    "        optimizer.zero_grad()\n",
    "        X_reconstructed = autoencoder(X_batch)\n",
    "        loss = criterion(X_reconstructed, X_batch)\n",
    "        loss.backward()\n",
    "        optimizer.step()\n",
    "        running_loss += loss.item()\n",
    "    avg_loss = running_loss / len(train_loader)\n",
    "    print(f\"Epoch {epoch}/{epochs} | Loss: {avg_loss:.6f}\")\n"
   ]
  },
  {
   "cell_type": "code",
   "execution_count": 7,
   "id": "5adde916-53e1-4c3e-afc5-17d36e76f58e",
   "metadata": {
    "tags": []
   },
   "outputs": [
    {
     "name": "stdout",
     "output_type": "stream",
     "text": [
      "Reconstruction error threshold: 0.04669454169925302\n"
     ]
    }
   ],
   "source": [
    "autoencoder.eval()\n",
    "train_errors = []\n",
    "with torch.no_grad():\n",
    "    for batch in train_loader:\n",
    "        X_batch = batch[0]\n",
    "        X_reconstructed = autoencoder(X_batch)\n",
    "        # Compute the MSE per sequence (averaging over sequence length and features)\n",
    "        loss_batch = torch.mean((X_batch - X_reconstructed) ** 2, dim=(1, 2))\n",
    "        train_errors.extend(loss_batch.cpu().numpy())\n",
    "\n",
    "train_errors = np.array(train_errors)\n",
    "threshold = np.mean(train_errors) + .95 * np.std(train_errors)\n",
    "print(\"Reconstruction error threshold:\", threshold)\n"
   ]
  },
  {
   "cell_type": "code",
   "execution_count": 8,
   "id": "b0d145f1-3edd-4a8e-8c61-d24af523bde5",
   "metadata": {
    "tags": []
   },
   "outputs": [
    {
     "name": "stdout",
     "output_type": "stream",
     "text": [
      "\n",
      "Test Set Evaluation:\n",
      "Accuracy: 97.19%\n",
      "Precision: 97.82%\n",
      "Recall: 96.53%\n",
      "F1-score: 97.17%\n",
      "\n",
      "Confusion Matrix:\n",
      "[[9766  215]\n",
      " [ 347 9652]]\n"
     ]
    },
    {
     "data": {
      "image/png": "[encoded data removed]",
      "text/plain": [
       "<Figure size 500x400 with 2 Axes>"
      ]
     },
     "metadata": {},
     "output_type": "display_data"
    }
   ],
   "source": [
    "autoencoder.eval()\n",
    "all_errors = []\n",
    "all_true = []\n",
    "\n",
    "with torch.no_grad():\n",
    "    for X_batch, y_batch in test_loader:\n",
    "        X_reconstructed = autoencoder(X_batch)\n",
    "        loss_batch = torch.mean((X_batch - X_reconstructed) ** 2, dim=(1, 2))\n",
    "        all_errors.extend(loss_batch.cpu().numpy())\n",
    "        all_true.extend(y_batch.cpu().numpy())\n",
    "\n",
    "all_errors = np.array(all_errors)\n",
    "all_true = np.array(all_true)\n",
    "\n",
    "# Label as anomaly (1) if error > threshold, else normal (0)\n",
    "y_pred = (all_errors > threshold).astype(int)\n",
    "\n",
    "print(\"\\nTest Set Evaluation:\")\n",
    "acc  = accuracy_score(all_true, y_pred) * 100\n",
    "prec = precision_score(all_true, y_pred, zero_division=0) * 100\n",
    "rec  = recall_score(all_true, y_pred, zero_division=0) * 100\n",
    "f1   = f1_score(all_true, y_pred, zero_division=0) * 100\n",
    "\n",
    "print(f\"Accuracy: {acc:.2f}%\")\n",
    "print(f\"Precision: {prec:.2f}%\")\n",
    "print(f\"Recall: {rec:.2f}%\")\n",
    "print(f\"F1-score: {f1:.2f}%\")\n",
    "\n",
    "cm = confusion_matrix(all_true, y_pred)\n",
    "print(\"\\nConfusion Matrix:\")\n",
    "print(cm)\n",
    "\n",
    "# Optionally, plot the confusion matrix\n",
    "plt.figure(figsize=(5,4))\n",
    "sns.heatmap(cm, annot=True, fmt=\"d\", cmap=\"Blues\",\n",
    "            xticklabels=[\"Pred Normal\", \"Pred Anomaly\"],\n",
    "            yticklabels=[\"True Normal\", \"True Anomaly\"])\n",
    "plt.title(\"Confusion Matrix\")\n",
    "plt.ylabel(\"True Label\")\n",
    "plt.xlabel(\"Predicted Label\")\n",
    "plt.show()\n"
   ]
  },
  {
   "cell_type": "code",
   "execution_count": null,
   "id": "2c6194dd-9c47-454d-8ed8-6d018994f20c",
   "metadata": {},
   "outputs": [],
   "source": []
  }
 ],
 "metadata": {
  "kernelspec": {
   "display_name": "Python 3 (ipykernel)",
   "language": "python",
   "name": "python3"
  },
  "language_info": {
   "codemirror_mode": {
    "name": "ipython",
    "version": 3
   },
   "file_extension": ".py",
   "mimetype": "text/x-python",
   "name": "python",
   "nbconvert_exporter": "python",
   "pygments_lexer": "ipython3",
   "version": "3.11.5"
  }
 },
 "nbformat": 4,
 "nbformat_minor": 5
}
