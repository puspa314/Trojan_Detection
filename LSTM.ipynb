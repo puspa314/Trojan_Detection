{
 "cells": [
  {
   "cell_type": "code",
   "execution_count": 1,
   "id": "9cec3755-8638-4fe7-a881-1c31bf1482a8",
   "metadata": {
    "tags": []
   },
   "outputs": [
    {
     "name": "stdout",
     "output_type": "stream",
     "text": [
      "Using device: cuda\n"
     ]
    }
   ],
   "source": [
    "import pandas as pd\n",
    "import numpy as np\n",
    "import torch\n",
    "import torch.nn as nn\n",
    "import torch.optim as optim\n",
    "from torch.utils.data import DataLoader, TensorDataset\n",
    "from sklearn.preprocessing import MinMaxScaler\n",
    "from sklearn.model_selection import TimeSeriesSplit\n",
    "from sklearn.metrics import accuracy_score, precision_score, recall_score, f1_score, confusion_matrix\n",
    "from imblearn.over_sampling import RandomOverSampler\n",
    "\n",
    "# ✅ Check GPU availability\n",
    "device = torch.device(\"cuda\" if torch.cuda.is_available() else \"cpu\")\n",
    "print(f\"Using device: {device}\")\n"
   ]
  },
  {
   "cell_type": "code",
   "execution_count": 21,
   "id": "63841af8-2705-4fac-bb4d-6db74d9958bc",
   "metadata": {
    "tags": []
   },
   "outputs": [
    {
     "name": "stdout",
     "output_type": "stream",
     "text": [
      "Balanced dataset: [10000 10000]\n"
     ]
    }
   ],
   "source": [
    "# Cell 2: Load and Prepare Data\n",
    "df = pd.read_csv(\"IL_T800_cleaned1.csv\")\n",
    "\n",
    "# Check and drop NaN values\n",
    "df.dropna(inplace=True)\n",
    "\n",
    "# Separate features (X) and label (y)\n",
    "X = df.drop(columns=['label']).values\n",
    "y = df['label'].values\n",
    "\n",
    "# Balance the dataset with RandomOverSampler\n",
    "ros = RandomOverSampler(random_state=42)\n",
    "X_resampled, y_resampled = ros.fit_resample(X, y)\n",
    "print(f\"Balanced dataset: {np.bincount(y_resampled)}\")\n",
    "\n",
    "# Scale features\n",
    "scaler = MinMaxScaler()\n",
    "X_scaled = scaler.fit_transform(X_resampled)\n"
   ]
  },
  {
   "cell_type": "code",
   "execution_count": 22,
   "id": "dab88326-a184-4f85-840b-527bf58e35b4",
   "metadata": {
    "tags": []
   },
   "outputs": [
    {
     "name": "stdout",
     "output_type": "stream",
     "text": [
      "Sequence X_seq shape: (19971, 30, 19)\n",
      "Sequence y_seq shape: (19971,)\n"
     ]
    }
   ],
   "source": [
    "# Cell 3: Create Sequences for LSTM\n",
    "timesteps = 30  # Adjusted sequence length\n",
    "\n",
    "def create_sequences(data, labels, seq_len=30):\n",
    "    seqs, labs = [], []\n",
    "    for i in range(len(data) - seq_len + 1):\n",
    "        seqs.append(data[i : i + seq_len])\n",
    "        labs.append(labels[i + seq_len - 1])\n",
    "    return np.array(seqs), np.array(labs)\n",
    "\n",
    "X_seq, y_seq = create_sequences(X_scaled, y_resampled, seq_len=timesteps)\n",
    "\n",
    "print(\"Sequence X_seq shape:\", X_seq.shape)\n",
    "print(\"Sequence y_seq shape:\", y_seq.shape)\n"
   ]
  },
  {
   "cell_type": "code",
   "execution_count": 23,
   "id": "310f5ca2-0034-480c-99af-ee6359cfee89",
   "metadata": {
    "tags": []
   },
   "outputs": [
    {
     "name": "stdout",
     "output_type": "stream",
     "text": [
      "X_train shape: (16643, 30, 19) X_test shape: (3328, 30, 19)\n",
      "y_train shape: (16643,) y_test shape: (3328,)\n"
     ]
    }
   ],
   "source": [
    "# Cell 4: TimeSeriesSplit for Train-Test Split\n",
    "tscv = TimeSeriesSplit(n_splits=5)\n",
    "for train_index, test_index in tscv.split(X_seq):\n",
    "    X_train, X_test = X_seq[train_index], X_seq[test_index]\n",
    "    y_train, y_test = y_seq[train_index], y_seq[test_index]\n",
    "\n",
    "print(\"X_train shape:\", X_train.shape, \"X_test shape:\", X_test.shape)\n",
    "print(\"y_train shape:\", y_train.shape, \"y_test shape:\", y_test.shape)\n"
   ]
  },
  {
   "cell_type": "code",
   "execution_count": 24,
   "id": "91c2c25a-63db-4651-bc56-7bb3f0d1e4e6",
   "metadata": {
    "tags": []
   },
   "outputs": [],
   "source": [
    "# Cell 5: Prepare Tensors and DataLoader\n",
    "X_train_tensor = torch.tensor(X_train, dtype=torch.float32).to(device)\n",
    "y_train_tensor = torch.tensor(y_train, dtype=torch.long).to(device)\n",
    "X_test_tensor  = torch.tensor(X_test,  dtype=torch.float32).to(device)\n",
    "y_test_tensor  = torch.tensor(y_test,  dtype=torch.long).to(device)\n",
    "\n",
    "batch_size = 32  # Reduced batch size for better gradient updates\n",
    "train_dataset = TensorDataset(X_train_tensor, y_train_tensor)\n",
    "test_dataset  = TensorDataset(X_test_tensor,  y_test_tensor)\n",
    "train_loader  = DataLoader(train_dataset, batch_size=batch_size, shuffle=True)\n",
    "test_loader   = DataLoader(test_dataset,  batch_size=batch_size, shuffle=False)\n"
   ]
  },
  {
   "cell_type": "code",
   "execution_count": 25,
   "id": "5a658c76-a287-4620-b7bd-acc193f3232b",
   "metadata": {
    "tags": []
   },
   "outputs": [],
   "source": [
    "# Cell 6: Define LSTM Model\n",
    "class DeeperLSTM(nn.Module):\n",
    "    def __init__(self, input_dim, hidden_dim=128, output_dim=2, num_layers=2, dropout=0.5):\n",
    "        super(DeeperLSTM, self).__init__()\n",
    "        self.lstm = nn.LSTM(input_size=input_dim, hidden_size=hidden_dim, num_layers=num_layers,\n",
    "                            batch_first=True, dropout=dropout)\n",
    "        self.fc1 = nn.Linear(hidden_dim, hidden_dim // 2)\n",
    "        self.relu = nn.ReLU()\n",
    "        self.fc2 = nn.Linear(hidden_dim // 2, output_dim)\n",
    "        \n",
    "    def forward(self, x):\n",
    "        lstm_out, _ = self.lstm(x)\n",
    "        last_step = lstm_out[:, -1, :]\n",
    "        x = self.fc1(last_step)\n",
    "        x = self.relu(x)\n",
    "        out = self.fc2(x)\n",
    "        return out\n",
    "\n",
    "num_features = X.shape[1]\n",
    "model = DeeperLSTM(input_dim=num_features).to(device)\n"
   ]
  },
  {
   "cell_type": "code",
   "execution_count": 26,
   "id": "a53be502-b790-4a35-ad0f-dabcabcff04e",
   "metadata": {
    "tags": []
   },
   "outputs": [
    {
     "name": "stdout",
     "output_type": "stream",
     "text": [
      "Criterion: CrossEntropyLoss()\n",
      "Optimizer: Adam (\n",
      "Parameter Group 0\n",
      "    amsgrad: False\n",
      "    betas: (0.9, 0.999)\n",
      "    capturable: False\n",
      "    differentiable: False\n",
      "    eps: 1e-08\n",
      "    foreach: None\n",
      "    fused: None\n",
      "    lr: 0.0001\n",
      "    maximize: False\n",
      "    weight_decay: 0.0001\n",
      ")\n"
     ]
    }
   ],
   "source": [
    "# Cell 7: Define Weighted Loss and Optimizer\n",
    "class_weights = torch.tensor([0.5, 1.5]).to(device)\n",
    "criterion = nn.CrossEntropyLoss(weight=class_weights)\n",
    "optimizer = optim.Adam(model.parameters(), lr=1e-4, weight_decay=1e-4)  # Added L2 regularization\n",
    "\n",
    "print(\"Criterion:\", criterion)\n",
    "print(\"Optimizer:\", optimizer)\n"
   ]
  },
  {
   "cell_type": "code",
   "execution_count": 27,
   "id": "d5a86be2-5e47-42af-8262-cd41bc7418af",
   "metadata": {
    "tags": []
   },
   "outputs": [
    {
     "name": "stdout",
     "output_type": "stream",
     "text": [
      "Epoch 1/100 | Loss: 0.4108 | Acc: 68.14%\n",
      "Epoch 2/100 | Loss: 0.0954 | Acc: 97.00%\n",
      "Epoch 3/100 | Loss: 0.0627 | Acc: 98.46%\n",
      "Epoch 4/100 | Loss: 0.0569 | Acc: 98.70%\n",
      "Epoch 5/100 | Loss: 0.0536 | Acc: 98.89%\n",
      "Epoch 6/100 | Loss: 0.0514 | Acc: 98.72%\n",
      "Epoch 7/100 | Loss: 0.0418 | Acc: 99.05%\n",
      "Epoch 8/100 | Loss: 0.0422 | Acc: 99.14%\n",
      "Epoch 9/100 | Loss: 0.0397 | Acc: 99.18%\n",
      "Epoch 10/100 | Loss: 0.0405 | Acc: 99.12%\n",
      "Epoch 11/100 | Loss: 0.0355 | Acc: 99.30%\n",
      "Epoch 12/100 | Loss: 0.0325 | Acc: 99.40%\n",
      "Epoch 13/100 | Loss: 0.0381 | Acc: 99.21%\n",
      "Epoch 14/100 | Loss: 0.0318 | Acc: 99.47%\n",
      "Epoch 15/100 | Loss: 0.0331 | Acc: 99.41%\n",
      "Epoch 16/100 | Loss: 0.0319 | Acc: 99.38%\n",
      "Epoch 17/100 | Loss: 0.0356 | Acc: 99.50%\n",
      "Epoch 18/100 | Loss: 0.0315 | Acc: 99.48%\n",
      "Epoch 19/100 | Loss: 0.0314 | Acc: 99.25%\n",
      "Epoch 20/100 | Loss: 0.0280 | Acc: 99.49%\n",
      "Epoch 21/100 | Loss: 0.0241 | Acc: 99.58%\n",
      "Epoch 22/100 | Loss: 0.0293 | Acc: 99.39%\n",
      "Epoch 23/100 | Loss: 0.0301 | Acc: 99.44%\n",
      "Epoch 24/100 | Loss: 0.0295 | Acc: 99.47%\n",
      "Epoch 25/100 | Loss: 0.0248 | Acc: 99.61%\n",
      "Epoch 26/100 | Loss: 0.0273 | Acc: 99.53%\n",
      "Epoch 27/100 | Loss: 0.0310 | Acc: 99.39%\n",
      "Epoch 28/100 | Loss: 0.0265 | Acc: 99.53%\n",
      "Epoch 29/100 | Loss: 0.0281 | Acc: 99.43%\n",
      "Epoch 30/100 | Loss: 0.0246 | Acc: 99.58%\n",
      "Epoch 31/100 | Loss: 0.0229 | Acc: 99.56%\n",
      "Epoch 32/100 | Loss: 0.0268 | Acc: 99.55%\n",
      "Epoch 33/100 | Loss: 0.0240 | Acc: 99.54%\n",
      "Epoch 34/100 | Loss: 0.0243 | Acc: 99.57%\n",
      "Epoch 35/100 | Loss: 0.0231 | Acc: 99.61%\n",
      "Epoch 36/100 | Loss: 0.0218 | Acc: 99.67%\n",
      "Epoch 37/100 | Loss: 0.0251 | Acc: 99.59%\n",
      "Epoch 38/100 | Loss: 0.0215 | Acc: 99.65%\n",
      "Epoch 39/100 | Loss: 0.0241 | Acc: 99.62%\n",
      "Epoch 40/100 | Loss: 0.0214 | Acc: 99.65%\n",
      "Epoch 41/100 | Loss: 0.0220 | Acc: 99.65%\n",
      "Epoch 42/100 | Loss: 0.0200 | Acc: 99.63%\n",
      "Epoch 43/100 | Loss: 0.0240 | Acc: 99.58%\n",
      "Epoch 44/100 | Loss: 0.0194 | Acc: 99.57%\n",
      "Epoch 45/100 | Loss: 0.0205 | Acc: 99.58%\n",
      "Epoch 46/100 | Loss: 0.0239 | Acc: 99.65%\n",
      "Epoch 47/100 | Loss: 0.0230 | Acc: 99.60%\n",
      "Epoch 48/100 | Loss: 0.0235 | Acc: 99.62%\n",
      "Epoch 49/100 | Loss: 0.0225 | Acc: 99.65%\n",
      "Epoch 50/100 | Loss: 0.0197 | Acc: 99.64%\n",
      "Epoch 51/100 | Loss: 0.0204 | Acc: 99.69%\n",
      "Epoch 52/100 | Loss: 0.0180 | Acc: 99.64%\n",
      "Epoch 53/100 | Loss: 0.0219 | Acc: 99.68%\n",
      "Epoch 54/100 | Loss: 0.0185 | Acc: 99.67%\n",
      "Epoch 55/100 | Loss: 0.0216 | Acc: 99.65%\n",
      "Epoch 56/100 | Loss: 0.0191 | Acc: 99.66%\n",
      "Epoch 57/100 | Loss: 0.0206 | Acc: 99.66%\n",
      "Epoch 58/100 | Loss: 0.0240 | Acc: 99.52%\n",
      "Epoch 59/100 | Loss: 0.0201 | Acc: 99.73%\n",
      "Epoch 60/100 | Loss: 0.0181 | Acc: 99.71%\n",
      "Epoch 61/100 | Loss: 0.0202 | Acc: 99.68%\n",
      "Epoch 62/100 | Loss: 0.0206 | Acc: 99.68%\n",
      "Epoch 63/100 | Loss: 0.0223 | Acc: 99.59%\n",
      "Epoch 64/100 | Loss: 0.0181 | Acc: 99.69%\n",
      "Epoch 65/100 | Loss: 0.0185 | Acc: 99.70%\n",
      "Epoch 66/100 | Loss: 0.0176 | Acc: 99.71%\n",
      "Epoch 67/100 | Loss: 0.0168 | Acc: 99.73%\n",
      "Epoch 68/100 | Loss: 0.0202 | Acc: 99.71%\n",
      "Epoch 69/100 | Loss: 0.0195 | Acc: 99.65%\n",
      "Epoch 70/100 | Loss: 0.0210 | Acc: 99.60%\n",
      "Epoch 71/100 | Loss: 0.0172 | Acc: 99.71%\n",
      "Epoch 72/100 | Loss: 0.0197 | Acc: 99.67%\n",
      "Epoch 73/100 | Loss: 0.0184 | Acc: 99.74%\n",
      "Epoch 74/100 | Loss: 0.0167 | Acc: 99.75%\n",
      "Epoch 75/100 | Loss: 0.0174 | Acc: 99.71%\n",
      "Epoch 76/100 | Loss: 0.0179 | Acc: 99.70%\n",
      "Epoch 77/100 | Loss: 0.0178 | Acc: 99.69%\n",
      "Epoch 78/100 | Loss: 0.0202 | Acc: 99.66%\n",
      "Epoch 79/100 | Loss: 0.0177 | Acc: 99.72%\n",
      "Epoch 80/100 | Loss: 0.0170 | Acc: 99.71%\n",
      "Epoch 81/100 | Loss: 0.0189 | Acc: 99.72%\n",
      "Epoch 82/100 | Loss: 0.0196 | Acc: 99.67%\n",
      "Epoch 83/100 | Loss: 0.0193 | Acc: 99.68%\n",
      "Epoch 84/100 | Loss: 0.0168 | Acc: 99.72%\n",
      "Epoch 85/100 | Loss: 0.0202 | Acc: 99.69%\n",
      "Epoch 86/100 | Loss: 0.0174 | Acc: 99.71%\n",
      "Epoch 87/100 | Loss: 0.0198 | Acc: 99.63%\n",
      "Epoch 88/100 | Loss: 0.0173 | Acc: 99.70%\n",
      "Epoch 89/100 | Loss: 0.0189 | Acc: 99.72%\n",
      "Epoch 90/100 | Loss: 0.0168 | Acc: 99.76%\n",
      "Epoch 91/100 | Loss: 0.0148 | Acc: 99.77%\n",
      "Epoch 92/100 | Loss: 0.0143 | Acc: 99.72%\n",
      "Epoch 93/100 | Loss: 0.0183 | Acc: 99.70%\n",
      "Epoch 94/100 | Loss: 0.0186 | Acc: 99.73%\n",
      "Epoch 95/100 | Loss: 0.0160 | Acc: 99.71%\n",
      "Epoch 96/100 | Loss: 0.0170 | Acc: 99.66%\n",
      "Epoch 97/100 | Loss: 0.0193 | Acc: 99.68%\n",
      "Epoch 98/100 | Loss: 0.0167 | Acc: 99.72%\n",
      "Epoch 99/100 | Loss: 0.0190 | Acc: 99.67%\n",
      "Epoch 100/100 | Loss: 0.0174 | Acc: 99.71%\n"
     ]
    }
   ],
   "source": [
    "# Cell 8: Train the Model\n",
    "epochs = 100\n",
    "for epoch in range(1, epochs + 1):\n",
    "    model.train()\n",
    "    running_loss, correct, total = 0.0, 0, 0\n",
    "    for Xb, yb in train_loader:\n",
    "        optimizer.zero_grad()\n",
    "        outputs = model(Xb)\n",
    "        loss = criterion(outputs, yb)\n",
    "        loss.backward()\n",
    "        nn.utils.clip_grad_norm_(model.parameters(), max_norm=1.0)\n",
    "        optimizer.step()\n",
    "        running_loss += loss.item()\n",
    "        _, predicted = torch.max(outputs, 1)\n",
    "        total += yb.size(0)\n",
    "        correct += (predicted == yb).sum().item()\n",
    "    epoch_loss = running_loss / len(train_loader)\n",
    "    epoch_acc  = 100.0 * correct / total\n",
    "    print(f\"Epoch {epoch}/{epochs} | Loss: {epoch_loss:.4f} | Acc: {epoch_acc:.2f}%\")\n"
   ]
  },
  {
   "cell_type": "code",
   "execution_count": 28,
   "id": "d326f31b-433c-43ff-b8d1-494b0b9e3fc3",
   "metadata": {
    "tags": []
   },
   "outputs": [
    {
     "name": "stdout",
     "output_type": "stream",
     "text": [
      "\n",
      "✅ Final Test Results:\n",
      "Accuracy:   99.79%\n",
      "Precision:  100.00%\n",
      "Recall:     99.79%\n",
      "F1-score:   99.89%\n"
     ]
    }
   ],
   "source": [
    "# Cell 9: Evaluate the Model\n",
    "model.eval()\n",
    "all_preds, all_true = [], []\n",
    "with torch.no_grad():\n",
    "    for Xb, yb in test_loader:\n",
    "        logits = model(Xb)\n",
    "        _, predicted = torch.max(logits, 1)\n",
    "        all_preds.append(predicted.cpu().numpy())\n",
    "        all_true.append(yb.cpu().numpy())\n",
    "\n",
    "all_preds = np.concatenate(all_preds)\n",
    "all_true = np.concatenate(all_true)\n",
    "\n",
    "acc  = accuracy_score(all_true, all_preds) * 100\n",
    "prec = precision_score(all_true, all_preds, pos_label=1, zero_division=0) * 100\n",
    "rec  = recall_score(all_true, all_preds, pos_label=1, zero_division=0) * 100\n",
    "f1   = f1_score(all_true, all_preds, pos_label=1, zero_division=0) * 100\n",
    "\n",
    "print(\"\\n✅ Final Test Results:\")\n",
    "print(f\"Accuracy:   {acc:.2f}%\")\n",
    "print(f\"Precision:  {prec:.2f}%\")\n",
    "print(f\"Recall:     {rec:.2f}%\")\n",
    "print(f\"F1-score:   {f1:.2f}%\")\n"
   ]
  },
  {
   "cell_type": "code",
   "execution_count": 19,
   "id": "6d770429-a99f-45bd-a951-9ac3c40193f2",
   "metadata": {
    "tags": []
   },
   "outputs": [
    {
     "name": "stdout",
     "output_type": "stream",
     "text": [
      "Epoch 1/100 | Loss: 0.0422 | Acc: 60.08%\n",
      "Epoch 2/100 | Loss: 0.0422 | Acc: 60.08%\n",
      "Epoch 3/100 | Loss: 0.0421 | Acc: 60.08%\n",
      "Epoch 4/100 | Loss: 0.0414 | Acc: 61.08%\n",
      "Epoch 5/100 | Loss: 0.0342 | Acc: 73.00%\n",
      "Epoch 6/100 | Loss: 0.0325 | Acc: 74.84%\n",
      "Epoch 7/100 | Loss: 0.0305 | Acc: 77.16%\n",
      "Epoch 8/100 | Loss: 0.0294 | Acc: 78.42%\n",
      "Epoch 9/100 | Loss: 0.0286 | Acc: 79.26%\n",
      "Epoch 10/100 | Loss: 0.0275 | Acc: 80.45%\n",
      "Epoch 11/100 | Loss: 0.0269 | Acc: 81.24%\n",
      "Epoch 12/100 | Loss: 0.0267 | Acc: 81.29%\n",
      "Epoch 13/100 | Loss: 0.0266 | Acc: 81.51%\n",
      "Epoch 14/100 | Loss: 0.0257 | Acc: 82.14%\n",
      "Epoch 15/100 | Loss: 0.0258 | Acc: 82.18%\n",
      "Epoch 16/100 | Loss: 0.0250 | Acc: 83.22%\n",
      "Epoch 17/100 | Loss: 0.0245 | Acc: 83.40%\n",
      "Epoch 18/100 | Loss: 0.0239 | Acc: 83.81%\n",
      "Epoch 19/100 | Loss: 0.0235 | Acc: 84.10%\n",
      "Epoch 20/100 | Loss: 0.0236 | Acc: 84.12%\n",
      "Epoch 21/100 | Loss: 0.0233 | Acc: 84.32%\n",
      "Epoch 22/100 | Loss: 0.0228 | Acc: 84.52%\n",
      "Epoch 23/100 | Loss: 0.0227 | Acc: 84.48%\n",
      "Epoch 24/100 | Loss: 0.0234 | Acc: 83.95%\n",
      "Epoch 25/100 | Loss: 0.0224 | Acc: 84.93%\n",
      "Epoch 26/100 | Loss: 0.0227 | Acc: 84.28%\n",
      "Epoch 27/100 | Loss: 0.0223 | Acc: 84.87%\n",
      "Epoch 28/100 | Loss: 0.0213 | Acc: 85.45%\n",
      "Epoch 29/100 | Loss: 0.0218 | Acc: 85.14%\n",
      "Epoch 30/100 | Loss: 0.0219 | Acc: 85.15%\n",
      "Epoch 31/100 | Loss: 0.0217 | Acc: 85.36%\n",
      "Epoch 32/100 | Loss: 0.0214 | Acc: 85.55%\n",
      "Epoch 33/100 | Loss: 0.0217 | Acc: 85.41%\n",
      "Epoch 34/100 | Loss: 0.0214 | Acc: 85.39%\n",
      "Epoch 35/100 | Loss: 0.0207 | Acc: 85.81%\n",
      "Epoch 36/100 | Loss: 0.0201 | Acc: 86.37%\n",
      "Epoch 37/100 | Loss: 0.0201 | Acc: 86.49%\n",
      "Epoch 38/100 | Loss: 0.0199 | Acc: 86.50%\n",
      "Epoch 39/100 | Loss: 0.0199 | Acc: 86.70%\n",
      "Epoch 40/100 | Loss: 0.0208 | Acc: 85.75%\n",
      "Epoch 41/100 | Loss: 0.0198 | Acc: 86.50%\n",
      "Epoch 42/100 | Loss: 0.0201 | Acc: 86.43%\n",
      "Epoch 43/100 | Loss: 0.0202 | Acc: 86.44%\n",
      "Epoch 44/100 | Loss: 0.0197 | Acc: 86.77%\n",
      "Epoch 45/100 | Loss: 0.0198 | Acc: 86.50%\n",
      "Epoch 46/100 | Loss: 0.0195 | Acc: 86.76%\n",
      "Epoch 47/100 | Loss: 0.0196 | Acc: 86.50%\n",
      "Epoch 48/100 | Loss: 0.0195 | Acc: 86.59%\n",
      "Epoch 49/100 | Loss: 0.0198 | Acc: 86.50%\n",
      "Epoch 50/100 | Loss: 0.0196 | Acc: 86.63%\n",
      "Epoch 51/100 | Loss: 0.0195 | Acc: 86.51%\n",
      "Epoch 52/100 | Loss: 0.0199 | Acc: 86.50%\n",
      "Epoch 53/100 | Loss: 0.0198 | Acc: 86.48%\n",
      "Epoch 54/100 | Loss: 0.0195 | Acc: 86.65%\n",
      "Epoch 55/100 | Loss: 0.0191 | Acc: 87.08%\n",
      "Epoch 56/100 | Loss: 0.0191 | Acc: 87.10%\n",
      "Epoch 57/100 | Loss: 0.0190 | Acc: 87.20%\n",
      "Epoch 58/100 | Loss: 0.0192 | Acc: 87.05%\n",
      "Epoch 59/100 | Loss: 0.0189 | Acc: 87.33%\n",
      "Epoch 60/100 | Loss: 0.0191 | Acc: 87.11%\n",
      "Epoch 61/100 | Loss: 0.0188 | Acc: 87.13%\n",
      "Epoch 62/100 | Loss: 0.0191 | Acc: 86.94%\n",
      "Epoch 63/100 | Loss: 0.0190 | Acc: 87.07%\n",
      "Epoch 64/100 | Loss: 0.0189 | Acc: 87.26%\n",
      "Epoch 65/100 | Loss: 0.0188 | Acc: 87.39%\n",
      "Epoch 66/100 | Loss: 0.0188 | Acc: 87.16%\n",
      "Epoch 67/100 | Loss: 0.0188 | Acc: 87.33%\n",
      "Epoch 68/100 | Loss: 0.0189 | Acc: 87.06%\n",
      "Epoch 69/100 | Loss: 0.0190 | Acc: 87.12%\n",
      "Epoch 70/100 | Loss: 0.0189 | Acc: 87.21%\n",
      "Epoch 71/100 | Loss: 0.0188 | Acc: 87.27%\n",
      "Epoch 72/100 | Loss: 0.0187 | Acc: 87.46%\n",
      "Epoch 73/100 | Loss: 0.0188 | Acc: 87.32%\n",
      "Epoch 74/100 | Loss: 0.0188 | Acc: 87.15%\n",
      "Epoch 75/100 | Loss: 0.0188 | Acc: 87.44%\n",
      "Epoch 76/100 | Loss: 0.0189 | Acc: 87.16%\n",
      "Epoch 77/100 | Loss: 0.0188 | Acc: 87.28%\n",
      "Epoch 78/100 | Loss: 0.0188 | Acc: 87.15%\n",
      "Epoch 79/100 | Loss: 0.0185 | Acc: 87.54%\n",
      "Epoch 80/100 | Loss: 0.0186 | Acc: 87.46%\n",
      "Epoch 81/100 | Loss: 0.0185 | Acc: 87.50%\n",
      "Epoch 82/100 | Loss: 0.0185 | Acc: 87.49%\n",
      "Epoch 83/100 | Loss: 0.0183 | Acc: 87.69%\n",
      "Epoch 84/100 | Loss: 0.0184 | Acc: 87.51%\n",
      "Epoch 85/100 | Loss: 0.0185 | Acc: 87.50%\n",
      "Epoch 86/100 | Loss: 0.0185 | Acc: 87.46%\n",
      "Epoch 87/100 | Loss: 0.0184 | Acc: 87.55%\n",
      "Epoch 88/100 | Loss: 0.0185 | Acc: 87.48%\n",
      "Epoch 89/100 | Loss: 0.0184 | Acc: 87.50%\n",
      "Epoch 90/100 | Loss: 0.0183 | Acc: 87.58%\n",
      "Epoch 91/100 | Loss: 0.0182 | Acc: 87.68%\n",
      "Epoch 92/100 | Loss: 0.0183 | Acc: 87.64%\n",
      "Epoch 93/100 | Loss: 0.0182 | Acc: 87.67%\n",
      "Epoch 94/100 | Loss: 0.0183 | Acc: 87.68%\n",
      "Epoch 95/100 | Loss: 0.0183 | Acc: 87.75%\n",
      "Epoch 96/100 | Loss: 0.0183 | Acc: 87.67%\n",
      "Epoch 97/100 | Loss: 0.0183 | Acc: 87.70%\n",
      "Epoch 98/100 | Loss: 0.0183 | Acc: 87.68%\n",
      "Epoch 99/100 | Loss: 0.0183 | Acc: 87.61%\n",
      "Epoch 100/100 | Loss: 0.0182 | Acc: 87.66%\n"
     ]
    }
   ],
   "source": [
    "epochs = 100\n",
    "for epoch in range(1, epochs + 1):\n",
    "    model.train()\n",
    "    running_loss, correct, total = 0.0, 0, 0\n",
    "    for Xb, yb in train_loader:\n",
    "        optimizer.zero_grad()\n",
    "        outputs = model(Xb)\n",
    "        loss = criterion(outputs, yb)\n",
    "        loss.backward()\n",
    "        nn.utils.clip_grad_norm_(model.parameters(), max_norm=1.0)\n",
    "        optimizer.step()\n",
    "        running_loss += loss.item()\n",
    "        _, predicted = torch.max(outputs, 1)\n",
    "        total += yb.size(0)\n",
    "        correct += (predicted == yb).sum().item()\n",
    "    epoch_loss = running_loss / len(train_loader)\n",
    "    epoch_acc  = 100.0 * correct / total\n",
    "    scheduler.step(epoch_loss)\n",
    "    print(f\"Epoch {epoch}/{epochs} | Loss: {epoch_loss:.4f} | Acc: {epoch_acc:.2f}%\")\n"
   ]
  },
  {
   "cell_type": "code",
   "execution_count": 20,
   "id": "b541e384-ff14-42c8-a840-14e58f11c77f",
   "metadata": {
    "tags": []
   },
   "outputs": [
    {
     "name": "stdout",
     "output_type": "stream",
     "text": [
      "\n",
      "✅ Final Test Results:\n",
      "Accuracy:   83.04%\n",
      "Precision:  100.00%\n",
      "Recall:     83.04%\n",
      "F1-score:   90.74%\n"
     ]
    }
   ],
   "source": [
    "model.eval()\n",
    "all_preds, all_true = [], []\n",
    "with torch.no_grad():\n",
    "    for Xb, yb in test_loader:\n",
    "        logits = model(Xb)\n",
    "        _, predicted = torch.max(logits, 1)\n",
    "        all_preds.append(predicted.cpu().numpy())\n",
    "        all_true.append(yb.cpu().numpy())\n",
    "\n",
    "all_preds = np.concatenate(all_preds)\n",
    "all_true = np.concatenate(all_true)\n",
    "\n",
    "acc  = accuracy_score(all_true, all_preds) * 100\n",
    "prec = precision_score(all_true, all_preds, pos_label=1) * 100\n",
    "rec  = recall_score(all_true, all_preds, pos_label=1) * 100\n",
    "f1   = f1_score(all_true, all_preds, pos_label=1) * 100\n",
    "\n",
    "print(\"\\n✅ Final Test Results:\")\n",
    "print(f\"Accuracy:   {acc:.2f}%\")\n",
    "print(f\"Precision:  {prec:.2f}%\")\n",
    "print(f\"Recall:     {rec:.2f}%\")\n",
    "print(f\"F1-score:   {f1:.2f}%\")\n"
   ]
  },
  {
   "cell_type": "code",
   "execution_count": null,
   "id": "a537036a-bb35-4ad5-9160-7261e9a44337",
   "metadata": {},
   "outputs": [],
   "source": []
  }
 ],
 "metadata": {
  "kernelspec": {
   "display_name": "Python 3 (ipykernel)",
   "language": "python",
   "name": "python3"
  },
  "language_info": {
   "codemirror_mode": {
    "name": "ipython",
    "version": 3
   },
   "file_extension": ".py",
   "mimetype": "text/x-python",
   "name": "python",
   "nbconvert_exporter": "python",
   "pygments_lexer": "ipython3",
   "version": "3.11.5"
  }
 },
 "nbformat": 4,
 "nbformat_minor": 5
}
